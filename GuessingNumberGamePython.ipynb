{
 "cells": [
  {
   "cell_type": "code",
   "execution_count": 3,
   "id": "72128e41",
   "metadata": {},
   "outputs": [
    {
     "name": "stdout",
     "output_type": "stream",
     "text": [
      "Welcome to the Number Game!\n",
      "I am thinking of a number between 1 and 100.\n",
      "Choose Difficulty. Type 'easy' or 'hard: hard\n",
      "You have 5 attempts to guess the number right\n",
      "Make a guess: 90\n",
      "Too high. Guess again You have 4 attempts left\n",
      "Make a guess: 50\n",
      "Too high. Guess again You have 3 attempts left\n",
      "Make a guess: 20\n",
      "Too high. Guess again You have 2 attempts left\n",
      "Make a guess: 10\n",
      "Too low. Guess again You have 1 attempts left\n",
      "Make a guess: 15\n",
      "You got it! the answer was 15 You have 0 attempts left\n"
     ]
    }
   ],
   "source": [
    "\n",
    "print(\"Welcome to the Number Game!\")\n",
    "print(\"I am thinking of a number between 1 and 100.\")\n",
    "\n",
    "difficulty = input(\"Choose Difficulty. Type 'easy' or 'hard: \")\n",
    "\n",
    "#computer number in mind\n",
    "import random\n",
    "\n",
    "computer_number = random.randint(1, 100)\n",
    "\n",
    "turns_counter = 1\n",
    "guessed_right = False\n",
    "\n",
    "\n",
    "#define function for guessing and add message to it\n",
    "def make_guess():\n",
    "    guess = int(input(\"Make a guess: \"))\n",
    "    return guess\n",
    "\n",
    "\n",
    "def comparison(inputGuess):\n",
    "    if inputGuess > computer_number:\n",
    "        return \"Too high. Guess again\"\n",
    "    elif inputGuess < computer_number:\n",
    "        return \"Too low. Guess again\"\n",
    "    else:\n",
    "        global guessed_right\n",
    "        guessed_right = True\n",
    "        return f\"You got it! the answer was {computer_number}\"\n",
    "\n",
    "\n",
    "#prompt attempts depending on difficulty level selected\n",
    "if difficulty == \"easy\":\n",
    "    print(\"You have 10 attempts to guess the number right\")\n",
    "elif difficulty == \"hard\":\n",
    "    print(\"You have 5 attempts to guess the number right\")\n",
    "\n",
    "#for easy level\n",
    "while turns_counter <= 10 and guessed_right == False and difficulty == \"easy\":\n",
    "    guessed = make_guess()\n",
    "    print(comparison(guessed), f\"You have {10-turns_counter} attempts left\")\n",
    "    turns_counter += 1\n",
    "\n",
    "#for hard level\n",
    "while turns_counter <= 5 and guessed_right == False and difficulty == \"hard\":\n",
    "    guessed = make_guess()\n",
    "    print(comparison(guessed), f\"You have {5-turns_counter} attempts left\")\n",
    "    turns_counter += 1\n",
    "\n",
    "if (turns_counter == 6 or turns_counter == 11) and guessed_right == False:\n",
    "    print(f\"You lost. Correct number is {computer_number}\")\n"
   ]
  }
 ],
 "metadata": {
  "kernelspec": {
   "display_name": "Python 3 (ipykernel)",
   "language": "python",
   "name": "python3"
  },
  "language_info": {
   "codemirror_mode": {
    "name": "ipython",
    "version": 3
   },
   "file_extension": ".py",
   "mimetype": "text/x-python",
   "name": "python",
   "nbconvert_exporter": "python",
   "pygments_lexer": "ipython3",
   "version": "3.11.4"
  }
 },
 "nbformat": 4,
 "nbformat_minor": 5
}
